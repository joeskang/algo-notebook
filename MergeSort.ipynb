{
 "cells": [
  {
   "cell_type": "markdown",
   "source": [
    "# Merge Sort\n",
    "\n",
    "This sorting algorithm will be done using two functions:\n",
    "1. the merge_sort() function will divide the problem into smaller arrays\n",
    "2. the merge() function will merge the divided pieces together"
   ],
   "metadata": {
    "collapsed": false
   }
  },
  {
   "cell_type": "code",
   "execution_count": 16,
   "outputs": [],
   "source": [
    "def merge_sort(array: list, start: int, end: int):\n",
    "    \"\"\"\n",
    "    :param array: the array to be sorted\n",
    "    :param start: the starting index\n",
    "    :param end: the ending index\n",
    "    :return: will return the sorted array\n",
    "    \"\"\"\n",
    "\n",
    "\n",
    "    if start >= end:\n",
    "        return\n",
    "\n",
    "    mid = (start + end) // 2\n",
    "\n",
    "    merge_sort(array, start, mid)\n",
    "\n",
    "    merge_sort(array, mid+1, end)\n",
    "\n",
    "    merge(array, start, mid, end)\n",
    "\n",
    "def merge(nums, s, m, e):\n",
    "\n",
    "    # get halves\n",
    "    left_half = nums[s:m+1]\n",
    "    right_half = nums[m+1:e+1]\n",
    "\n",
    "    i = j = 0\n",
    "    k = s\n",
    "\n",
    "    while i < len(left_half) and j < len(right_half):\n",
    "        if left_half[i] <= right_half[j]:\n",
    "            nums[k] = left_half[i]\n",
    "            i += 1\n",
    "\n",
    "        else:\n",
    "            nums[k] = right_half[j]\n",
    "            j += 1\n",
    "\n",
    "        k += 1\n",
    "\n",
    "    # deal with remaining halves\n",
    "    while i < len(left_half):\n",
    "        nums[k] = left_half[i]\n",
    "        i += 1\n",
    "        k += 1\n",
    "\n",
    "    while j < len(right_half):\n",
    "        nums[k] = right_half[j]\n",
    "        j += 1\n",
    "        k += 1\n",
    "\n",
    "\n"
   ],
   "metadata": {
    "collapsed": false,
    "ExecuteTime": {
     "end_time": "2023-06-19T21:46:53.983491Z",
     "start_time": "2023-06-19T21:46:53.977977Z"
    }
   }
  },
  {
   "cell_type": "code",
   "execution_count": 22,
   "outputs": [],
   "source": [
    "def test_1():\n",
    "    my_array = [5, 2, 1, 4, 6]\n",
    "    sorted_array = sorted(my_array)\n",
    "    merge_sort(my_array, 0, len(my_array) - 1)\n",
    "    assert my_array == sorted_array\n",
    "\n",
    "test_1()"
   ],
   "metadata": {
    "collapsed": false,
    "ExecuteTime": {
     "end_time": "2023-06-19T21:48:34.288252Z",
     "start_time": "2023-06-19T21:48:34.285373Z"
    }
   }
  },
  {
   "cell_type": "code",
   "execution_count": 23,
   "outputs": [],
   "source": [
    "def test_2():\n",
    "    import random\n",
    "\n",
    "    my_random_array = list(random.randint(0, 100) for _ in range(100))\n",
    "    sorted_array = sorted(my_random_array)\n",
    "    merge_sort(my_random_array, 0, len(my_random_array) - 1)\n",
    "    assert my_random_array == sorted_array\n",
    "\n",
    "test_2()"
   ],
   "metadata": {
    "collapsed": false,
    "ExecuteTime": {
     "end_time": "2023-06-19T21:48:34.462388Z",
     "start_time": "2023-06-19T21:48:34.460220Z"
    }
   }
  },
  {
   "cell_type": "code",
   "execution_count": null,
   "outputs": [],
   "source": [],
   "metadata": {
    "collapsed": false
   }
  }
 ],
 "metadata": {
  "kernelspec": {
   "display_name": "Python 3",
   "language": "python",
   "name": "python3"
  },
  "language_info": {
   "codemirror_mode": {
    "name": "ipython",
    "version": 2
   },
   "file_extension": ".py",
   "mimetype": "text/x-python",
   "name": "python",
   "nbconvert_exporter": "python",
   "pygments_lexer": "ipython2",
   "version": "2.7.6"
  }
 },
 "nbformat": 4,
 "nbformat_minor": 0
}
