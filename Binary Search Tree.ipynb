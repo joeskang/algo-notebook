{
 "cells": [
  {
   "cell_type": "markdown",
   "source": [
    "# Binary Search Tree (with TreeNode)"
   ],
   "metadata": {
    "collapsed": false
   }
  },
  {
   "cell_type": "code",
   "execution_count": 2,
   "outputs": [],
   "source": [
    "class TreeNode:\n",
    "    def __init__(self, left=None, right=None, value=None):\n",
    "        self.left = left\n",
    "        self.right = right\n",
    "        self.value = value"
   ],
   "metadata": {
    "collapsed": false,
    "ExecuteTime": {
     "end_time": "2023-06-19T22:00:38.569739Z",
     "start_time": "2023-06-19T22:00:38.549701Z"
    }
   }
  },
  {
   "cell_type": "code",
   "execution_count": 3,
   "outputs": [],
   "source": [
    "def insert(root: TreeNode, value: int) -> TreeNode:\n",
    "    if root is None:\n",
    "        return TreeNode(value=value)\n",
    "    if value < root.value:\n",
    "        root.left = insert(root.left, value)\n",
    "    elif value > root.value:\n",
    "        root.right = insert(root.right, value)\n",
    "    return root\n"
   ],
   "metadata": {
    "collapsed": false,
    "ExecuteTime": {
     "end_time": "2023-06-19T22:17:00.852768Z",
     "start_time": "2023-06-19T22:17:00.850149Z"
    }
   }
  },
  {
   "cell_type": "code",
   "execution_count": 3,
   "outputs": [],
   "source": [
    "\"\"\"\n",
    "Need to define two functions\n",
    "1. min_value_node\n",
    "2. remove\n",
    "\"\"\"\n",
    "\n",
    "# 1 min_value_node\n",
    "def min_value_node(root: TreeNode):\n",
    "    current_node = root\n"
   ],
   "metadata": {
    "collapsed": false
   }
  },
  {
   "cell_type": "code",
   "execution_count": null,
   "outputs": [],
   "source": [],
   "metadata": {
    "collapsed": false
   }
  }
 ],
 "metadata": {
  "kernelspec": {
   "display_name": "Python 3",
   "language": "python",
   "name": "python3"
  },
  "language_info": {
   "codemirror_mode": {
    "name": "ipython",
    "version": 2
   },
   "file_extension": ".py",
   "mimetype": "text/x-python",
   "name": "python",
   "nbconvert_exporter": "python",
   "pygments_lexer": "ipython2",
   "version": "2.7.6"
  }
 },
 "nbformat": 4,
 "nbformat_minor": 0
}
