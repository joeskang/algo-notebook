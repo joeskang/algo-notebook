{
 "cells": [
  {
   "cell_type": "markdown",
   "source": [
    "# Quick Sort"
   ],
   "metadata": {
    "collapsed": false
   }
  },
  {
   "cell_type": "code",
   "execution_count": 1,
   "outputs": [],
   "source": [
    "def quick_sort(array, start, end):\n",
    "\n",
    "    if start >= end:\n",
    "        return\n",
    "\n",
    "    pivot, current = array[end], start\n",
    "    for i in range(start, end):\n",
    "        if array[i] < pivot:\n",
    "            array[i], array[current] = array[current], array[i]\n",
    "            current += 1\n",
    "\n",
    "    array[end], array[current] = array[current], array[end]\n",
    "\n",
    "    quick_sort(array, start, current-1)\n",
    "    quick_sort(array, current+1, end)"
   ],
   "metadata": {
    "collapsed": false,
    "ExecuteTime": {
     "end_time": "2023-06-19T21:54:09.078342Z",
     "start_time": "2023-06-19T21:54:09.070278Z"
    }
   }
  },
  {
   "cell_type": "code",
   "execution_count": 2,
   "outputs": [],
   "source": [
    "def test_1():\n",
    "    my_array = [5, 4, 2, 1, 6]\n",
    "    sorted_array = sorted(my_array)\n",
    "    quick_sort(my_array, 0, len(my_array) - 1)\n",
    "    assert my_array == sorted_array\n",
    "\n",
    "test_1()"
   ],
   "metadata": {
    "collapsed": false,
    "ExecuteTime": {
     "end_time": "2023-06-19T21:54:45.261310Z",
     "start_time": "2023-06-19T21:54:45.255769Z"
    }
   }
  },
  {
   "cell_type": "code",
   "execution_count": 6,
   "outputs": [],
   "source": [
    "def test_2():\n",
    "    import random\n",
    "    my_array = list(random.randint(0, 1000) for _ in range(1000))\n",
    "    sorted_array = sorted(my_array)\n",
    "    quick_sort(my_array, 0, len(my_array) - 1)\n",
    "    assert my_array == sorted_array\n",
    "\n",
    "test_2()"
   ],
   "metadata": {
    "collapsed": false,
    "ExecuteTime": {
     "end_time": "2023-06-19T21:56:00.801937Z",
     "start_time": "2023-06-19T21:56:00.791678Z"
    }
   }
  }
 ],
 "metadata": {
  "kernelspec": {
   "display_name": "Python 3",
   "language": "python",
   "name": "python3"
  },
  "language_info": {
   "codemirror_mode": {
    "name": "ipython",
    "version": 2
   },
   "file_extension": ".py",
   "mimetype": "text/x-python",
   "name": "python",
   "nbconvert_exporter": "python",
   "pygments_lexer": "ipython2",
   "version": "2.7.6"
  }
 },
 "nbformat": 4,
 "nbformat_minor": 0
}
